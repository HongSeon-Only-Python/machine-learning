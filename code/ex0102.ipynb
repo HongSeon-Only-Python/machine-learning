{
 "metadata": {
  "language_info": {
   "codemirror_mode": {
    "name": "ipython",
    "version": 3
   },
   "file_extension": ".py",
   "mimetype": "text/x-python",
   "name": "python",
   "nbconvert_exporter": "python",
   "pygments_lexer": "ipython3",
   "version": "3.7.6-final"
  },
  "orig_nbformat": 2,
  "kernelspec": {
   "name": "python3",
   "display_name": "Python 3"
  }
 },
 "nbformat": 4,
 "nbformat_minor": 2,
 "cells": [
  {
   "cell_type": "code",
   "execution_count": 1,
   "metadata": {},
   "outputs": [],
   "source": [
    "import pandas as pd\n",
    "\n",
    "from sklearn.ensemble import VotingClassifier\n",
    "from sklearn.linear_model import LogisticRegression\n",
    "from sklearn.neighbors import KNeighborsClassifier\n",
    "from sklearn.datasets import load_breast_cancer\n",
    "from sklearn.model_selection import train_test_split\n",
    "from sklearn.metrics import accuracy_score\n",
    "\n",
    "from warnings import filterwarnings\n",
    "filterwarnings('ignore')\n",
    "\n",
    "cancer = load_breast_cancer()"
   ]
  },
  {
   "cell_type": "code",
   "execution_count": 6,
   "metadata": {
    "tags": []
   },
   "outputs": [
    {
     "output_type": "stream",
     "name": "stdout",
     "text": "LogisticRegression 보팅 분류기 정확도 0.9300699300699301\nKNeighborsClassifier 보팅 분류기 정확도 0.916083916083916\n"
    }
   ],
   "source": [
    "#보팅 적용을 위한 개별 모데릉 ㄴ로지스틱 회귀와 knn입니다\n",
    "model_lr = LogisticRegression()\n",
    "model_knn = KNeighborsClassifier(n_neighbors=8)\n",
    "#개별모델으 소프팅 보팅 기반의 앙상ㅂ르 모델로 구현한 분류기\n",
    "model_voting = VotingClassifier(estimators=[('LogisticRegression',model_lr),('KNN', model_knn)\n",
    "],voting='soft')\n",
    "# 데이터를 훈련셋과 테스트셋 분리\n",
    "X_train, X_test,y_train,y_test = train_test_split(\n",
    "    cancer.data,\n",
    "    cancer.target,\n",
    "    random_state=13\n",
    ")\n",
    "# 보팅 분류기의 학습/예측/평가\n",
    "model_voting.fit(X_train,y_train)\n",
    "pred = model_voting.predict(X_test)\n",
    "\n",
    "# 개별 모델의 학습/에측/평가\n",
    "for clf in[model_lr, model_knn]:\n",
    "    clf.fit(X_train,y_train)\n",
    "    pred = clf.predict(X_test)\n",
    "    class_name = clf.__class__.__name__\n",
    "    print(class_name, '보팅 분류기 정확도',accuracy_score(y_test, pred))"
   ]
  }
 ]
}